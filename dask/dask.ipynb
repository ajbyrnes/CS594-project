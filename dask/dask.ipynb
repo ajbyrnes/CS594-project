{
 "cells": [
  {
   "cell_type": "code",
   "execution_count": 4,
   "metadata": {},
   "outputs": [],
   "source": [
    "import numpy as np\n",
    "import pandas as pd\n",
    "import dask.dataframe as dd"
   ]
  },
  {
   "cell_type": "code",
   "execution_count": 12,
   "metadata": {},
   "outputs": [
    {
     "data": {
      "text/html": [
       "<div>\n",
       "<style scoped>\n",
       "    .dataframe tbody tr th:only-of-type {\n",
       "        vertical-align: middle;\n",
       "    }\n",
       "\n",
       "    .dataframe tbody tr th {\n",
       "        vertical-align: top;\n",
       "    }\n",
       "\n",
       "    .dataframe thead th {\n",
       "        text-align: right;\n",
       "    }\n",
       "</style>\n",
       "<table border=\"1\" class=\"dataframe\">\n",
       "  <thead>\n",
       "    <tr style=\"text-align: right;\">\n",
       "      <th></th>\n",
       "      <th>object_id</th>\n",
       "      <th>mjd</th>\n",
       "      <th>passband</th>\n",
       "      <th>flux</th>\n",
       "      <th>flux_err</th>\n",
       "      <th>detected</th>\n",
       "    </tr>\n",
       "  </thead>\n",
       "  <tbody>\n",
       "    <tr>\n",
       "      <th>0</th>\n",
       "      <td>1000183</td>\n",
       "      <td>59583.2493</td>\n",
       "      <td>0</td>\n",
       "      <td>-4.635374</td>\n",
       "      <td>9.278234</td>\n",
       "      <td>0</td>\n",
       "    </tr>\n",
       "    <tr>\n",
       "      <th>1</th>\n",
       "      <td>1000183</td>\n",
       "      <td>59585.3547</td>\n",
       "      <td>4</td>\n",
       "      <td>6.479336</td>\n",
       "      <td>11.734409</td>\n",
       "      <td>0</td>\n",
       "    </tr>\n",
       "    <tr>\n",
       "      <th>2</th>\n",
       "      <td>1000183</td>\n",
       "      <td>59586.3595</td>\n",
       "      <td>4</td>\n",
       "      <td>-24.911951</td>\n",
       "      <td>13.357832</td>\n",
       "      <td>0</td>\n",
       "    </tr>\n",
       "    <tr>\n",
       "      <th>3</th>\n",
       "      <td>1000183</td>\n",
       "      <td>59590.3573</td>\n",
       "      <td>5</td>\n",
       "      <td>-67.180305</td>\n",
       "      <td>21.674242</td>\n",
       "      <td>0</td>\n",
       "    </tr>\n",
       "    <tr>\n",
       "      <th>4</th>\n",
       "      <td>1000183</td>\n",
       "      <td>59597.1711</td>\n",
       "      <td>5</td>\n",
       "      <td>78.801926</td>\n",
       "      <td>65.485069</td>\n",
       "      <td>0</td>\n",
       "    </tr>\n",
       "  </tbody>\n",
       "</table>\n",
       "</div>"
      ],
      "text/plain": [
       "   object_id         mjd  passband       flux   flux_err  detected\n",
       "0    1000183  59583.2493         0  -4.635374   9.278234         0\n",
       "1    1000183  59585.3547         4   6.479336  11.734409         0\n",
       "2    1000183  59586.3595         4 -24.911951  13.357832         0\n",
       "3    1000183  59590.3573         5 -67.180305  21.674242         0\n",
       "4    1000183  59597.1711         5  78.801926  65.485069         0"
      ]
     },
     "execution_count": 12,
     "metadata": {},
     "output_type": "execute_result"
    }
   ],
   "source": [
    "df = dd.read_csv('data/test_set_batch2.csv')\n",
    "df.head()"
   ]
  },
  {
   "cell_type": "code",
   "execution_count": null,
   "metadata": {},
   "outputs": [
    {
     "data": {
      "text/plain": [
       "[(-10896.609, 196920.281], (-10896.609, 196920.281], (-10896.609, 196920.281], (-10896.609, 196920.281], (-10896.609, 196920.281], ..., (-10896.609, 196920.281], (-10896.609, 196920.281], (-10896.609, 196920.281], (-10896.609, 196920.281], (-10896.609, 196920.281]]\n",
       "Length: 44281695\n",
       "Categories (64, interval[float64, right]): [(-6882154.281, -6661037.109] < (-6661037.109, -6453220.219] < (-6453220.219, -6245403.328] < (-6245403.328, -6037586.438] ... (5600159.438, 5807976.328] < (5807976.328, 6015793.219] < (6015793.219, 6223610.109] < (6223610.109, 6431427.0]]"
      ]
     },
     "execution_count": 13,
     "metadata": {},
     "output_type": "execute_result"
    }
   ],
   "source": [
    "pd.cut(df['flux'], bins=64)"
   ]
  }
 ],
 "metadata": {
  "kernelspec": {
   "display_name": "base",
   "language": "python",
   "name": "python3"
  },
  "language_info": {
   "codemirror_mode": {
    "name": "ipython",
    "version": 3
   },
   "file_extension": ".py",
   "mimetype": "text/x-python",
   "name": "python",
   "nbconvert_exporter": "python",
   "pygments_lexer": "ipython3",
   "version": "3.12.7"
  }
 },
 "nbformat": 4,
 "nbformat_minor": 2
}
