{
 "cells": [
  {
   "cell_type": "code",
   "execution_count": 1,
   "metadata": {},
   "outputs": [],
   "source": [
    "import numpy as np\n",
    "import pandas as pd\n",
    "\n",
    "pd.options.mode.copy_on_write = False"
   ]
  },
  {
   "cell_type": "code",
   "execution_count": 2,
   "metadata": {},
   "outputs": [
    {
     "data": {
      "text/html": [
       "<div>\n",
       "<style scoped>\n",
       "    .dataframe tbody tr th:only-of-type {\n",
       "        vertical-align: middle;\n",
       "    }\n",
       "\n",
       "    .dataframe tbody tr th {\n",
       "        vertical-align: top;\n",
       "    }\n",
       "\n",
       "    .dataframe thead th {\n",
       "        text-align: right;\n",
       "    }\n",
       "</style>\n",
       "<table border=\"1\" class=\"dataframe\">\n",
       "  <thead>\n",
       "    <tr style=\"text-align: right;\">\n",
       "      <th></th>\n",
       "      <th>popden</th>\n",
       "      <th>city</th>\n",
       "      <th>state</th>\n",
       "    </tr>\n",
       "  </thead>\n",
       "  <tbody>\n",
       "    <tr>\n",
       "      <th>0</th>\n",
       "      <td>4200</td>\n",
       "      <td>Anchorage</td>\n",
       "      <td>AK</td>\n",
       "    </tr>\n",
       "    <tr>\n",
       "      <th>1</th>\n",
       "      <td>6000</td>\n",
       "      <td>San Diego</td>\n",
       "      <td>CA</td>\n",
       "    </tr>\n",
       "    <tr>\n",
       "      <th>2</th>\n",
       "      <td>5000</td>\n",
       "      <td>Sacramento</td>\n",
       "      <td>CA</td>\n",
       "    </tr>\n",
       "    <tr>\n",
       "      <th>3</th>\n",
       "      <td>7000</td>\n",
       "      <td>New York</td>\n",
       "      <td>NY</td>\n",
       "    </tr>\n",
       "    <tr>\n",
       "      <th>4</th>\n",
       "      <td>2000</td>\n",
       "      <td>Buffalo</td>\n",
       "      <td>NY</td>\n",
       "    </tr>\n",
       "    <tr>\n",
       "      <th>5</th>\n",
       "      <td>3700</td>\n",
       "      <td>Austin</td>\n",
       "      <td>TX</td>\n",
       "    </tr>\n",
       "    <tr>\n",
       "      <th>6</th>\n",
       "      <td>2500</td>\n",
       "      <td>Houstin</td>\n",
       "      <td>TX</td>\n",
       "    </tr>\n",
       "  </tbody>\n",
       "</table>\n",
       "</div>"
      ],
      "text/plain": [
       "   popden        city state\n",
       "0    4200   Anchorage    AK\n",
       "1    6000   San Diego    CA\n",
       "2    5000  Sacramento    CA\n",
       "3    7000    New York    NY\n",
       "4    2000     Buffalo    NY\n",
       "5    3700      Austin    TX\n",
       "6    2500     Houstin    TX"
      ]
     },
     "execution_count": 2,
     "metadata": {},
     "output_type": "execute_result"
    }
   ],
   "source": [
    "# Load small cities data\n",
    "cities = pd.read_csv('data/smallcities.csv')\n",
    "cities"
   ]
  },
  {
   "cell_type": "code",
   "execution_count": 3,
   "metadata": {},
   "outputs": [
    {
     "name": "stdout",
     "output_type": "stream",
     "text": [
      "<class 'pandas.core.frame.DataFrame'>\n",
      "RangeIndex: 7 entries, 0 to 6\n",
      "Data columns (total 3 columns):\n",
      " #   Column  Non-Null Count  Dtype \n",
      "---  ------  --------------  ----- \n",
      " 0   popden  7 non-null      int64 \n",
      " 1   city    7 non-null      object\n",
      " 2   state   7 non-null      object\n",
      "dtypes: int64(1), object(2)\n",
      "memory usage: 300.0+ bytes\n"
     ]
    }
   ],
   "source": [
    "cities.info()"
   ]
  },
  {
   "cell_type": "code",
   "execution_count": 4,
   "metadata": {},
   "outputs": [
    {
     "data": {
      "text/html": [
       "<div>\n",
       "<style scoped>\n",
       "    .dataframe tbody tr th:only-of-type {\n",
       "        vertical-align: middle;\n",
       "    }\n",
       "\n",
       "    .dataframe tbody tr th {\n",
       "        vertical-align: top;\n",
       "    }\n",
       "\n",
       "    .dataframe thead th {\n",
       "        text-align: right;\n",
       "    }\n",
       "</style>\n",
       "<table border=\"1\" class=\"dataframe\">\n",
       "  <thead>\n",
       "    <tr style=\"text-align: right;\">\n",
       "      <th></th>\n",
       "      <th>popden</th>\n",
       "      <th>city</th>\n",
       "      <th>state</th>\n",
       "      <th>state_annot_cat</th>\n",
       "      <th>state_annot_int</th>\n",
       "      <th>popden_annot</th>\n",
       "    </tr>\n",
       "  </thead>\n",
       "  <tbody>\n",
       "    <tr>\n",
       "      <th>0</th>\n",
       "      <td>4200</td>\n",
       "      <td>Anchorage</td>\n",
       "      <td>AK</td>\n",
       "      <td>(-0.003, 1.0]</td>\n",
       "      <td>0</td>\n",
       "      <td>(4000, 9000]</td>\n",
       "    </tr>\n",
       "    <tr>\n",
       "      <th>1</th>\n",
       "      <td>6000</td>\n",
       "      <td>San Diego</td>\n",
       "      <td>CA</td>\n",
       "      <td>(-0.003, 1.0]</td>\n",
       "      <td>0</td>\n",
       "      <td>(4000, 9000]</td>\n",
       "    </tr>\n",
       "    <tr>\n",
       "      <th>2</th>\n",
       "      <td>5000</td>\n",
       "      <td>Sacramento</td>\n",
       "      <td>CA</td>\n",
       "      <td>(-0.003, 1.0]</td>\n",
       "      <td>0</td>\n",
       "      <td>(4000, 9000]</td>\n",
       "    </tr>\n",
       "    <tr>\n",
       "      <th>3</th>\n",
       "      <td>7000</td>\n",
       "      <td>New York</td>\n",
       "      <td>NY</td>\n",
       "      <td>(1.0, 2.0]</td>\n",
       "      <td>1</td>\n",
       "      <td>(4000, 9000]</td>\n",
       "    </tr>\n",
       "    <tr>\n",
       "      <th>4</th>\n",
       "      <td>2000</td>\n",
       "      <td>Buffalo</td>\n",
       "      <td>NY</td>\n",
       "      <td>(1.0, 2.0]</td>\n",
       "      <td>1</td>\n",
       "      <td>(1000, 4000]</td>\n",
       "    </tr>\n",
       "    <tr>\n",
       "      <th>5</th>\n",
       "      <td>3700</td>\n",
       "      <td>Austin</td>\n",
       "      <td>TX</td>\n",
       "      <td>(2.0, 3.0]</td>\n",
       "      <td>2</td>\n",
       "      <td>(1000, 4000]</td>\n",
       "    </tr>\n",
       "    <tr>\n",
       "      <th>6</th>\n",
       "      <td>2500</td>\n",
       "      <td>Houstin</td>\n",
       "      <td>TX</td>\n",
       "      <td>(2.0, 3.0]</td>\n",
       "      <td>2</td>\n",
       "      <td>(1000, 4000]</td>\n",
       "    </tr>\n",
       "  </tbody>\n",
       "</table>\n",
       "</div>"
      ],
      "text/plain": [
       "   popden        city state state_annot_cat  state_annot_int  popden_annot\n",
       "0    4200   Anchorage    AK   (-0.003, 1.0]                0  (4000, 9000]\n",
       "1    6000   San Diego    CA   (-0.003, 1.0]                0  (4000, 9000]\n",
       "2    5000  Sacramento    CA   (-0.003, 1.0]                0  (4000, 9000]\n",
       "3    7000    New York    NY      (1.0, 2.0]                1  (4000, 9000]\n",
       "4    2000     Buffalo    NY      (1.0, 2.0]                1  (1000, 4000]\n",
       "5    3700      Austin    TX      (2.0, 3.0]                2  (1000, 4000]\n",
       "6    2500     Houstin    TX      (2.0, 3.0]                2  (1000, 4000]"
      ]
     },
     "execution_count": 4,
     "metadata": {},
     "output_type": "execute_result"
    }
   ],
   "source": [
    "# Annotate 'state' and 'popden' columns\n",
    "cities['state'] = cities['state'].astype('category')\n",
    "# pd.cut(cities['state'].cat, bins=3)\n",
    "cities['state_annot_cat'] = pd.cut(cities['state'].cat.codes, bins=3)\n",
    "cities['state_annot_int'] = pd.cut(cities['state'].cat.codes, bins=3).cat.codes\n",
    "\n",
    "cities['popden_annot'] = pd.cut(cities['popden'], bins=[1000, 4000, 9000])\n",
    "\n",
    "cities"
   ]
  },
  {
   "cell_type": "code",
   "execution_count": 5,
   "metadata": {},
   "outputs": [
    {
     "data": {
      "text/plain": [
       "0    0\n",
       "1    0\n",
       "2    0\n",
       "3    1\n",
       "4    1\n",
       "5    2\n",
       "6    2\n",
       "dtype: int8"
      ]
     },
     "execution_count": 5,
     "metadata": {},
     "output_type": "execute_result"
    }
   ],
   "source": [
    "# Get state_annot codes\n",
    "cities['state_annot_cat'].cat.codes"
   ]
  },
  {
   "cell_type": "code",
   "execution_count": 6,
   "metadata": {},
   "outputs": [
    {
     "data": {
      "text/html": [
       "<div>\n",
       "<style scoped>\n",
       "    .dataframe tbody tr th:only-of-type {\n",
       "        vertical-align: middle;\n",
       "    }\n",
       "\n",
       "    .dataframe tbody tr th {\n",
       "        vertical-align: top;\n",
       "    }\n",
       "\n",
       "    .dataframe thead th {\n",
       "        text-align: right;\n",
       "    }\n",
       "</style>\n",
       "<table border=\"1\" class=\"dataframe\">\n",
       "  <thead>\n",
       "    <tr style=\"text-align: right;\">\n",
       "      <th></th>\n",
       "      <th></th>\n",
       "      <th>popden</th>\n",
       "      <th>city</th>\n",
       "      <th>state</th>\n",
       "      <th>state_annot_int</th>\n",
       "      <th>popden_annot</th>\n",
       "    </tr>\n",
       "    <tr>\n",
       "      <th>state_annot_cat</th>\n",
       "      <th></th>\n",
       "      <th></th>\n",
       "      <th></th>\n",
       "      <th></th>\n",
       "      <th></th>\n",
       "      <th></th>\n",
       "    </tr>\n",
       "  </thead>\n",
       "  <tbody>\n",
       "    <tr>\n",
       "      <th rowspan=\"3\" valign=\"top\">(-0.003, 1.0]</th>\n",
       "      <th>0</th>\n",
       "      <td>4200</td>\n",
       "      <td>Anchorage</td>\n",
       "      <td>AK</td>\n",
       "      <td>0</td>\n",
       "      <td>(4000, 9000]</td>\n",
       "    </tr>\n",
       "    <tr>\n",
       "      <th>1</th>\n",
       "      <td>6000</td>\n",
       "      <td>San Diego</td>\n",
       "      <td>CA</td>\n",
       "      <td>0</td>\n",
       "      <td>(4000, 9000]</td>\n",
       "    </tr>\n",
       "    <tr>\n",
       "      <th>2</th>\n",
       "      <td>5000</td>\n",
       "      <td>Sacramento</td>\n",
       "      <td>CA</td>\n",
       "      <td>0</td>\n",
       "      <td>(4000, 9000]</td>\n",
       "    </tr>\n",
       "    <tr>\n",
       "      <th rowspan=\"2\" valign=\"top\">(1.0, 2.0]</th>\n",
       "      <th>3</th>\n",
       "      <td>7000</td>\n",
       "      <td>New York</td>\n",
       "      <td>NY</td>\n",
       "      <td>1</td>\n",
       "      <td>(4000, 9000]</td>\n",
       "    </tr>\n",
       "    <tr>\n",
       "      <th>4</th>\n",
       "      <td>2000</td>\n",
       "      <td>Buffalo</td>\n",
       "      <td>NY</td>\n",
       "      <td>1</td>\n",
       "      <td>(1000, 4000]</td>\n",
       "    </tr>\n",
       "    <tr>\n",
       "      <th rowspan=\"2\" valign=\"top\">(2.0, 3.0]</th>\n",
       "      <th>5</th>\n",
       "      <td>3700</td>\n",
       "      <td>Austin</td>\n",
       "      <td>TX</td>\n",
       "      <td>2</td>\n",
       "      <td>(1000, 4000]</td>\n",
       "    </tr>\n",
       "    <tr>\n",
       "      <th>6</th>\n",
       "      <td>2500</td>\n",
       "      <td>Houstin</td>\n",
       "      <td>TX</td>\n",
       "      <td>2</td>\n",
       "      <td>(1000, 4000]</td>\n",
       "    </tr>\n",
       "  </tbody>\n",
       "</table>\n",
       "</div>"
      ],
      "text/plain": [
       "                   popden        city state  state_annot_int  popden_annot\n",
       "state_annot_cat                                                           \n",
       "(-0.003, 1.0]   0    4200   Anchorage    AK                0  (4000, 9000]\n",
       "                1    6000   San Diego    CA                0  (4000, 9000]\n",
       "                2    5000  Sacramento    CA                0  (4000, 9000]\n",
       "(1.0, 2.0]      3    7000    New York    NY                1  (4000, 9000]\n",
       "                4    2000     Buffalo    NY                1  (1000, 4000]\n",
       "(2.0, 3.0]      5    3700      Austin    TX                2  (1000, 4000]\n",
       "                6    2500     Houstin    TX                2  (1000, 4000]"
      ]
     },
     "execution_count": 6,
     "metadata": {},
     "output_type": "execute_result"
    }
   ],
   "source": [
    "# Group by annotations\n",
    "cities_by_state_idx = cities.set_index(['state_annot_cat', cities.index])\n",
    "cities_by_state_idx"
   ]
  },
  {
   "cell_type": "code",
   "execution_count": 7,
   "metadata": {},
   "outputs": [
    {
     "data": {
      "text/plain": [
       "[0, 1]"
      ]
     },
     "execution_count": 7,
     "metadata": {},
     "output_type": "execute_result"
    }
   ],
   "source": [
    "# Decode sketch to categories\n",
    "city_sketch = 3     # 0b0011\n",
    "\n",
    "def decode_sketch(sketch):\n",
    "    return [i for i, b in enumerate(bin(sketch)[2:]) if int(b) == 1]\n",
    "\n",
    "city_sketch_cats = decode_sketch(city_sketch)\n",
    "city_sketch_cats\n"
   ]
  },
  {
   "cell_type": "code",
   "execution_count": 8,
   "metadata": {},
   "outputs": [
    {
     "name": "stdout",
     "output_type": "stream",
     "text": [
      "328 μs ± 13.3 μs per loop (mean ± std. dev. of 7 runs, 1,000 loops each)\n"
     ]
    }
   ],
   "source": [
    "%%timeit\n",
    "# Filter MultiIndex data with sketch\n",
    "cities_by_state_idx.loc[cities_by_state_idx.index.levels[0][city_sketch_cats]]"
   ]
  },
  {
   "cell_type": "code",
   "execution_count": 9,
   "metadata": {},
   "outputs": [
    {
     "name": "stdout",
     "output_type": "stream",
     "text": [
      "283 μs ± 6.65 μs per loop (mean ± std. dev. of 7 runs, 1,000 loops each)\n"
     ]
    }
   ],
   "source": [
    "%%timeit\n",
    "# Filter data with boolean filter on categorical data\n",
    "cities[cities['state_annot_cat'].cat.codes.isin(city_sketch_cats)]"
   ]
  },
  {
   "cell_type": "code",
   "execution_count": 10,
   "metadata": {},
   "outputs": [
    {
     "name": "stdout",
     "output_type": "stream",
     "text": [
      "255 μs ± 12.7 μs per loop (mean ± std. dev. of 7 runs, 1,000 loops each)\n"
     ]
    }
   ],
   "source": [
    "%%timeit\n",
    "# Filter data with boolean filter on non-categorical data\n",
    "cities[cities['state_annot_int'].isin(city_sketch_cats)]"
   ]
  }
 ],
 "metadata": {
  "kernelspec": {
   "display_name": "base",
   "language": "python",
   "name": "python3"
  },
  "language_info": {
   "codemirror_mode": {
    "name": "ipython",
    "version": 3
   },
   "file_extension": ".py",
   "mimetype": "text/x-python",
   "name": "python",
   "nbconvert_exporter": "python",
   "pygments_lexer": "ipython3",
   "version": "3.12.7"
  }
 },
 "nbformat": 4,
 "nbformat_minor": 2
}
