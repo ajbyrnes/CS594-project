{
 "cells": [
  {
   "cell_type": "code",
   "execution_count": 1,
   "metadata": {},
   "outputs": [],
   "source": [
    "import numpy as np\n",
    "import pandas as pd\n",
    "\n",
    "pd.options.mode.copy_on_write = True"
   ]
  },
  {
   "cell_type": "code",
   "execution_count": 2,
   "metadata": {},
   "outputs": [
    {
     "data": {
      "text/html": [
       "<div>\n",
       "<style scoped>\n",
       "    .dataframe tbody tr th:only-of-type {\n",
       "        vertical-align: middle;\n",
       "    }\n",
       "\n",
       "    .dataframe tbody tr th {\n",
       "        vertical-align: top;\n",
       "    }\n",
       "\n",
       "    .dataframe thead th {\n",
       "        text-align: right;\n",
       "    }\n",
       "</style>\n",
       "<table border=\"1\" class=\"dataframe\">\n",
       "  <thead>\n",
       "    <tr style=\"text-align: right;\">\n",
       "      <th></th>\n",
       "      <th>index</th>\n",
       "      <th>object_id</th>\n",
       "      <th>mjd</th>\n",
       "      <th>passband</th>\n",
       "      <th>flux</th>\n",
       "      <th>flux_err</th>\n",
       "      <th>detected</th>\n",
       "      <th>passband_str</th>\n",
       "    </tr>\n",
       "  </thead>\n",
       "  <tbody>\n",
       "    <tr>\n",
       "      <th>0</th>\n",
       "      <td>0</td>\n",
       "      <td>13</td>\n",
       "      <td>59798.3205</td>\n",
       "      <td>2</td>\n",
       "      <td>-1.299735</td>\n",
       "      <td>1.357315</td>\n",
       "      <td>False</td>\n",
       "      <td>red</td>\n",
       "    </tr>\n",
       "    <tr>\n",
       "      <th>1</th>\n",
       "      <td>1</td>\n",
       "      <td>13</td>\n",
       "      <td>59798.3281</td>\n",
       "      <td>1</td>\n",
       "      <td>-2.095392</td>\n",
       "      <td>1.148654</td>\n",
       "      <td>False</td>\n",
       "      <td>green</td>\n",
       "    </tr>\n",
       "    <tr>\n",
       "      <th>2</th>\n",
       "      <td>2</td>\n",
       "      <td>13</td>\n",
       "      <td>59798.3357</td>\n",
       "      <td>3</td>\n",
       "      <td>-0.923794</td>\n",
       "      <td>1.763655</td>\n",
       "      <td>False</td>\n",
       "      <td>infrared</td>\n",
       "    </tr>\n",
       "    <tr>\n",
       "      <th>3</th>\n",
       "      <td>3</td>\n",
       "      <td>13</td>\n",
       "      <td>59798.3466</td>\n",
       "      <td>4</td>\n",
       "      <td>-4.009815</td>\n",
       "      <td>2.602911</td>\n",
       "      <td>False</td>\n",
       "      <td>near-z</td>\n",
       "    </tr>\n",
       "    <tr>\n",
       "      <th>4</th>\n",
       "      <td>4</td>\n",
       "      <td>13</td>\n",
       "      <td>59798.3576</td>\n",
       "      <td>5</td>\n",
       "      <td>-3.403503</td>\n",
       "      <td>5.367328</td>\n",
       "      <td>False</td>\n",
       "      <td>near-y</td>\n",
       "    </tr>\n",
       "  </tbody>\n",
       "</table>\n",
       "</div>"
      ],
      "text/plain": [
       "   index  object_id         mjd  passband      flux  flux_err  detected  \\\n",
       "0      0         13  59798.3205         2 -1.299735  1.357315     False   \n",
       "1      1         13  59798.3281         1 -2.095392  1.148654     False   \n",
       "2      2         13  59798.3357         3 -0.923794  1.763655     False   \n",
       "3      3         13  59798.3466         4 -4.009815  2.602911     False   \n",
       "4      4         13  59798.3576         5 -3.403503  5.367328     False   \n",
       "\n",
       "  passband_str  \n",
       "0          red  \n",
       "1        green  \n",
       "2     infrared  \n",
       "3       near-z  \n",
       "4       near-y  "
      ]
     },
     "execution_count": 2,
     "metadata": {},
     "output_type": "execute_result"
    }
   ],
   "source": [
    "# Load data\n",
    "dtypes = {\n",
    "    'object_id': np.int32,\n",
    "    'mjd': np.float64,\n",
    "    'passband': np.int8,\n",
    "    'flux': np.float32,\n",
    "    'flux_err': np.float32,\n",
    "    'detected': np.bool_\n",
    "}\n",
    "\n",
    "df = pd.read_csv('data/test_set_batch1.csv', dtype=dtypes)\n",
    "df.head()"
   ]
  },
  {
   "cell_type": "code",
   "execution_count": 3,
   "metadata": {},
   "outputs": [
    {
     "data": {
      "text/html": [
       "<div>\n",
       "<style scoped>\n",
       "    .dataframe tbody tr th:only-of-type {\n",
       "        vertical-align: middle;\n",
       "    }\n",
       "\n",
       "    .dataframe tbody tr th {\n",
       "        vertical-align: top;\n",
       "    }\n",
       "\n",
       "    .dataframe thead th {\n",
       "        text-align: right;\n",
       "    }\n",
       "</style>\n",
       "<table border=\"1\" class=\"dataframe\">\n",
       "  <thead>\n",
       "    <tr style=\"text-align: right;\">\n",
       "      <th></th>\n",
       "      <th>index</th>\n",
       "      <th>object_id</th>\n",
       "      <th>mjd</th>\n",
       "      <th>passband</th>\n",
       "      <th>flux</th>\n",
       "      <th>flux_err</th>\n",
       "      <th>detected</th>\n",
       "      <th>passband_str</th>\n",
       "      <th>mjd_annot</th>\n",
       "      <th>flux_annot</th>\n",
       "      <th>flux_err_annot</th>\n",
       "    </tr>\n",
       "  </thead>\n",
       "  <tbody>\n",
       "    <tr>\n",
       "      <th>0</th>\n",
       "      <td>0</td>\n",
       "      <td>13</td>\n",
       "      <td>59798.3205</td>\n",
       "      <td>2</td>\n",
       "      <td>-1.299735</td>\n",
       "      <td>1.357315</td>\n",
       "      <td>False</td>\n",
       "      <td>red</td>\n",
       "      <td>(59691.503, 59800.679]</td>\n",
       "      <td>(-5798.832, 7648.236]</td>\n",
       "      <td>(0.124, 34.39]</td>\n",
       "    </tr>\n",
       "    <tr>\n",
       "      <th>1</th>\n",
       "      <td>1</td>\n",
       "      <td>13</td>\n",
       "      <td>59798.3281</td>\n",
       "      <td>1</td>\n",
       "      <td>-2.095392</td>\n",
       "      <td>1.148654</td>\n",
       "      <td>False</td>\n",
       "      <td>green</td>\n",
       "      <td>(59691.503, 59800.679]</td>\n",
       "      <td>(-5798.832, 7648.236]</td>\n",
       "      <td>(0.124, 34.39]</td>\n",
       "    </tr>\n",
       "    <tr>\n",
       "      <th>2</th>\n",
       "      <td>2</td>\n",
       "      <td>13</td>\n",
       "      <td>59798.3357</td>\n",
       "      <td>3</td>\n",
       "      <td>-0.923794</td>\n",
       "      <td>1.763655</td>\n",
       "      <td>False</td>\n",
       "      <td>infrared</td>\n",
       "      <td>(59691.503, 59800.679]</td>\n",
       "      <td>(-5798.832, 7648.236]</td>\n",
       "      <td>(0.124, 34.39]</td>\n",
       "    </tr>\n",
       "    <tr>\n",
       "      <th>3</th>\n",
       "      <td>3</td>\n",
       "      <td>13</td>\n",
       "      <td>59798.3466</td>\n",
       "      <td>4</td>\n",
       "      <td>-4.009815</td>\n",
       "      <td>2.602911</td>\n",
       "      <td>False</td>\n",
       "      <td>near-z</td>\n",
       "      <td>(59691.503, 59800.679]</td>\n",
       "      <td>(-5798.832, 7648.236]</td>\n",
       "      <td>(0.124, 34.39]</td>\n",
       "    </tr>\n",
       "    <tr>\n",
       "      <th>4</th>\n",
       "      <td>4</td>\n",
       "      <td>13</td>\n",
       "      <td>59798.3576</td>\n",
       "      <td>5</td>\n",
       "      <td>-3.403503</td>\n",
       "      <td>5.367328</td>\n",
       "      <td>False</td>\n",
       "      <td>near-y</td>\n",
       "      <td>(59691.503, 59800.679]</td>\n",
       "      <td>(-5798.832, 7648.236]</td>\n",
       "      <td>(0.124, 34.39]</td>\n",
       "    </tr>\n",
       "  </tbody>\n",
       "</table>\n",
       "</div>"
      ],
      "text/plain": [
       "   index  object_id         mjd  passband      flux  flux_err  detected  \\\n",
       "0      0         13  59798.3205         2 -1.299735  1.357315     False   \n",
       "1      1         13  59798.3281         1 -2.095392  1.148654     False   \n",
       "2      2         13  59798.3357         3 -0.923794  1.763655     False   \n",
       "3      3         13  59798.3466         4 -4.009815  2.602911     False   \n",
       "4      4         13  59798.3576         5 -3.403503  5.367328     False   \n",
       "\n",
       "  passband_str               mjd_annot             flux_annot  flux_err_annot  \n",
       "0          red  (59691.503, 59800.679]  (-5798.832, 7648.236]  (0.124, 34.39]  \n",
       "1        green  (59691.503, 59800.679]  (-5798.832, 7648.236]  (0.124, 34.39]  \n",
       "2     infrared  (59691.503, 59800.679]  (-5798.832, 7648.236]  (0.124, 34.39]  \n",
       "3       near-z  (59691.503, 59800.679]  (-5798.832, 7648.236]  (0.124, 34.39]  \n",
       "4       near-y  (59691.503, 59800.679]  (-5798.832, 7648.236]  (0.124, 34.39]  "
      ]
     },
     "execution_count": 3,
     "metadata": {},
     "output_type": "execute_result"
    }
   ],
   "source": [
    "# Annotate data\n",
    "sketches = [\n",
    "    [4],\n",
    "    [2, 7, 3, 5],\n",
    "    [8, 3, 6, 3, 0, 5, 2, 7]\n",
    "]\n",
    "\n",
    "\n",
    "df['mjd_annot'] = pd.cut(df['mjd'], bins=10)\n",
    "df['flux_annot'] = pd.cut(df['flux'], bins=10)\n",
    "df['flux_err_annot'] = pd.cut(df['flux_err'], bins=10)\n",
    "df.head()"
   ]
  },
  {
   "cell_type": "code",
   "execution_count": 4,
   "metadata": {},
   "outputs": [
    {
     "data": {
      "text/plain": [
       "index                          10855957\n",
       "object_id                        342868\n",
       "mjd                          60674.0798\n",
       "passband                              5\n",
       "flux                       61436.507812\n",
       "flux_err                     339.724915\n",
       "detected                           True\n",
       "passband_str                ultraviolet\n",
       "mjd_annot         (60564.905, 60674.08]\n",
       "flux_annot        (47989.44, 61436.508]\n",
       "flux_err_annot       (305.799, 339.725]\n",
       "dtype: object"
      ]
     },
     "execution_count": 4,
     "metadata": {},
     "output_type": "execute_result"
    }
   ],
   "source": [
    "df.max()"
   ]
  },
  {
   "cell_type": "code",
   "execution_count": 5,
   "metadata": {},
   "outputs": [
    {
     "data": {
      "text/plain": [
       "index                                    0\n",
       "object_id                               13\n",
       "mjd                             59582.3282\n",
       "passband                                 0\n",
       "flux                         -73034.171875\n",
       "flux_err                          0.463753\n",
       "detected                             False\n",
       "passband_str                         green\n",
       "mjd_annot           (59581.236, 59691.503]\n",
       "flux_annot        (-73168.643, -59587.104]\n",
       "flux_err_annot              (0.124, 34.39]\n",
       "dtype: object"
      ]
     },
     "execution_count": 5,
     "metadata": {},
     "output_type": "execute_result"
    }
   ],
   "source": [
    "df.min()"
   ]
  },
  {
   "cell_type": "code",
   "execution_count": 6,
   "metadata": {},
   "outputs": [],
   "source": [
    "# Filters\n",
    "def filter_isin(df, col, sketch):\n",
    "    return df.loc[df[col].cat.codes.isin(sketch)]\n",
    "\n",
    "filtered1 = filter_isin(df, 'mjd_annot', sketches[0])\n",
    "filtered2 = filter_isin(df, 'mjd_annot', sketches[1])\n",
    "filtered3 = filter_isin(df, 'mjd_annot', sketches[2])\n",
    "\n",
    "def filter_xs(df, sketch):\n",
    "    return pd.concat([df.xs(i) for i in sketch])"
   ]
  },
  {
   "cell_type": "code",
   "execution_count": 7,
   "metadata": {},
   "outputs": [
    {
     "data": {
      "text/html": [
       "<div>\n",
       "<style scoped>\n",
       "    .dataframe tbody tr th:only-of-type {\n",
       "        vertical-align: middle;\n",
       "    }\n",
       "\n",
       "    .dataframe tbody tr th {\n",
       "        vertical-align: top;\n",
       "    }\n",
       "\n",
       "    .dataframe thead th {\n",
       "        text-align: right;\n",
       "    }\n",
       "</style>\n",
       "<table border=\"1\" class=\"dataframe\">\n",
       "  <thead>\n",
       "    <tr style=\"text-align: right;\">\n",
       "      <th></th>\n",
       "      <th></th>\n",
       "      <th>index</th>\n",
       "      <th>object_id</th>\n",
       "      <th>mjd</th>\n",
       "      <th>passband</th>\n",
       "      <th>flux</th>\n",
       "      <th>flux_err</th>\n",
       "      <th>detected</th>\n",
       "      <th>passband_str</th>\n",
       "      <th>mjd_annot</th>\n",
       "      <th>flux_annot</th>\n",
       "      <th>flux_err_annot</th>\n",
       "    </tr>\n",
       "    <tr>\n",
       "      <th>flux_annot</th>\n",
       "      <th>object_id</th>\n",
       "      <th></th>\n",
       "      <th></th>\n",
       "      <th></th>\n",
       "      <th></th>\n",
       "      <th></th>\n",
       "      <th></th>\n",
       "      <th></th>\n",
       "      <th></th>\n",
       "      <th></th>\n",
       "      <th></th>\n",
       "      <th></th>\n",
       "    </tr>\n",
       "  </thead>\n",
       "  <tbody>\n",
       "    <tr>\n",
       "      <th rowspan=\"5\" valign=\"top\">5</th>\n",
       "      <th>13</th>\n",
       "      <td>0</td>\n",
       "      <td>13</td>\n",
       "      <td>59798.3205</td>\n",
       "      <td>2</td>\n",
       "      <td>-1.299735</td>\n",
       "      <td>1.357315</td>\n",
       "      <td>False</td>\n",
       "      <td>red</td>\n",
       "      <td>(59691.503, 59800.679]</td>\n",
       "      <td>(-5798.832, 7648.236]</td>\n",
       "      <td>(0.124, 34.39]</td>\n",
       "    </tr>\n",
       "    <tr>\n",
       "      <th>13</th>\n",
       "      <td>1</td>\n",
       "      <td>13</td>\n",
       "      <td>59798.3281</td>\n",
       "      <td>1</td>\n",
       "      <td>-2.095392</td>\n",
       "      <td>1.148654</td>\n",
       "      <td>False</td>\n",
       "      <td>green</td>\n",
       "      <td>(59691.503, 59800.679]</td>\n",
       "      <td>(-5798.832, 7648.236]</td>\n",
       "      <td>(0.124, 34.39]</td>\n",
       "    </tr>\n",
       "    <tr>\n",
       "      <th>13</th>\n",
       "      <td>2</td>\n",
       "      <td>13</td>\n",
       "      <td>59798.3357</td>\n",
       "      <td>3</td>\n",
       "      <td>-0.923794</td>\n",
       "      <td>1.763655</td>\n",
       "      <td>False</td>\n",
       "      <td>infrared</td>\n",
       "      <td>(59691.503, 59800.679]</td>\n",
       "      <td>(-5798.832, 7648.236]</td>\n",
       "      <td>(0.124, 34.39]</td>\n",
       "    </tr>\n",
       "    <tr>\n",
       "      <th>13</th>\n",
       "      <td>3</td>\n",
       "      <td>13</td>\n",
       "      <td>59798.3466</td>\n",
       "      <td>4</td>\n",
       "      <td>-4.009815</td>\n",
       "      <td>2.602911</td>\n",
       "      <td>False</td>\n",
       "      <td>near-z</td>\n",
       "      <td>(59691.503, 59800.679]</td>\n",
       "      <td>(-5798.832, 7648.236]</td>\n",
       "      <td>(0.124, 34.39]</td>\n",
       "    </tr>\n",
       "    <tr>\n",
       "      <th>13</th>\n",
       "      <td>4</td>\n",
       "      <td>13</td>\n",
       "      <td>59798.3576</td>\n",
       "      <td>5</td>\n",
       "      <td>-3.403503</td>\n",
       "      <td>5.367328</td>\n",
       "      <td>False</td>\n",
       "      <td>near-y</td>\n",
       "      <td>(59691.503, 59800.679]</td>\n",
       "      <td>(-5798.832, 7648.236]</td>\n",
       "      <td>(0.124, 34.39]</td>\n",
       "    </tr>\n",
       "  </tbody>\n",
       "</table>\n",
       "</div>"
      ],
      "text/plain": [
       "                      index  object_id         mjd  passband      flux  \\\n",
       "flux_annot object_id                                                     \n",
       "5          13             0         13  59798.3205         2 -1.299735   \n",
       "           13             1         13  59798.3281         1 -2.095392   \n",
       "           13             2         13  59798.3357         3 -0.923794   \n",
       "           13             3         13  59798.3466         4 -4.009815   \n",
       "           13             4         13  59798.3576         5 -3.403503   \n",
       "\n",
       "                      flux_err  detected passband_str               mjd_annot  \\\n",
       "flux_annot object_id                                                            \n",
       "5          13         1.357315     False          red  (59691.503, 59800.679]   \n",
       "           13         1.148654     False        green  (59691.503, 59800.679]   \n",
       "           13         1.763655     False     infrared  (59691.503, 59800.679]   \n",
       "           13         2.602911     False       near-z  (59691.503, 59800.679]   \n",
       "           13         5.367328     False       near-y  (59691.503, 59800.679]   \n",
       "\n",
       "                                 flux_annot  flux_err_annot  \n",
       "flux_annot object_id                                         \n",
       "5          13         (-5798.832, 7648.236]  (0.124, 34.39]  \n",
       "           13         (-5798.832, 7648.236]  (0.124, 34.39]  \n",
       "           13         (-5798.832, 7648.236]  (0.124, 34.39]  \n",
       "           13         (-5798.832, 7648.236]  (0.124, 34.39]  \n",
       "           13         (-5798.832, 7648.236]  (0.124, 34.39]  "
      ]
     },
     "execution_count": 7,
     "metadata": {},
     "output_type": "execute_result"
    }
   ],
   "source": [
    "# MultiIndex\n",
    "mi = pd.MultiIndex.from_arrays([df['flux_annot'].cat.codes, df['object_id']], names=['flux_annot', 'object_id'])\n",
    "df_mi = df.set_index(mi)\n",
    "\n",
    "df_mi.head()"
   ]
  },
  {
   "cell_type": "code",
   "execution_count": 8,
   "metadata": {},
   "outputs": [
    {
     "data": {
      "text/plain": [
       "61729.234375"
      ]
     },
     "execution_count": 8,
     "metadata": {},
     "output_type": "execute_result"
    }
   ],
   "source": [
    "max_possible_flux = (df['flux'] + df['flux_err']).max()\n",
    "max_possible_flux"
   ]
  },
  {
   "cell_type": "code",
   "execution_count": 9,
   "metadata": {},
   "outputs": [],
   "source": [
    "# %%timeit\n",
    "max_possible_flux = (df['flux'] + df['flux_err']).max()"
   ]
  },
  {
   "cell_type": "code",
   "execution_count": 10,
   "metadata": {},
   "outputs": [
    {
     "name": "stdout",
     "output_type": "stream",
     "text": [
      "30.1 ms ± 4.08 ms per loop (mean ± std. dev. of 7 runs, 10 loops each)\n"
     ]
    }
   ],
   "source": [
    "%%timeit\n",
    "filtered = filter_isin(df, 'flux_annot', [9])\n",
    "max_possible_flux = (filtered['flux'] + filtered['flux_err']).max()"
   ]
  },
  {
   "cell_type": "code",
   "execution_count": 11,
   "metadata": {},
   "outputs": [
    {
     "name": "stdout",
     "output_type": "stream",
     "text": [
      "2.15 s ± 102 ms per loop (mean ± std. dev. of 7 runs, 1 loop each)\n"
     ]
    }
   ],
   "source": [
    "%%timeit\n",
    "mi = pd.MultiIndex.from_arrays([df['flux_annot'].cat.codes, df['object_id']], names=['flux_annot', 'object_id'])\n",
    "df_mi = df.set_index(mi).sort_index()\n",
    "filtered = filter_xs(df_mi, [9])\n",
    "max_possible_flux = (filtered['flux'] + filtered['flux_err']).max()"
   ]
  },
  {
   "cell_type": "code",
   "execution_count": 12,
   "metadata": {},
   "outputs": [
    {
     "name": "stdout",
     "output_type": "stream",
     "text": [
      "14.9 ms ± 781 μs per loop (mean ± std. dev. of 7 runs, 100 loops each)\n"
     ]
    }
   ],
   "source": [
    "%%timeit\n",
    "filtered = filter_xs(df_mi, [9])\n",
    "max_possible_flux = (filtered['flux'] + filtered['flux_err']).max()"
   ]
  },
  {
   "cell_type": "code",
   "execution_count": 13,
   "metadata": {},
   "outputs": [
    {
     "name": "stdout",
     "output_type": "stream",
     "text": [
      "13.6 ms ± 1.16 ms per loop (mean ± std. dev. of 7 runs, 100 loops each)\n"
     ]
    }
   ],
   "source": [
    "%%timeit\n",
    "df['flux'].sum()"
   ]
  },
  {
   "cell_type": "code",
   "execution_count": 14,
   "metadata": {},
   "outputs": [
    {
     "name": "stderr",
     "output_type": "stream",
     "text": [
      "/home/abyrnes/anaconda3/lib/python3.11/site-packages/numpy/core/_methods.py:53: RuntimeWarning: overflow encountered in reduce\n",
      "  return umr_prod(a, axis, dtype, out, keepdims, initial, where)\n",
      "/home/abyrnes/anaconda3/lib/python3.11/site-packages/numpy/core/_methods.py:53: RuntimeWarning: invalid value encountered in reduce\n",
      "  return umr_prod(a, axis, dtype, out, keepdims, initial, where)\n"
     ]
    },
    {
     "name": "stdout",
     "output_type": "stream",
     "text": [
      "41.6 ms ± 2.97 ms per loop (mean ± std. dev. of 7 runs, 10 loops each)\n"
     ]
    }
   ],
   "source": [
    "%%timeit\n",
    "df['flux'].prod()"
   ]
  },
  {
   "cell_type": "code",
   "execution_count": 15,
   "metadata": {},
   "outputs": [
    {
     "name": "stdout",
     "output_type": "stream",
     "text": [
      "28.3 ms ± 2.89 ms per loop (mean ± std. dev. of 7 runs, 10 loops each)\n"
     ]
    }
   ],
   "source": [
    "%%timeit\n",
    "df['flux'].mean()"
   ]
  },
  {
   "cell_type": "code",
   "execution_count": null,
   "metadata": {},
   "outputs": [],
   "source": []
  },
  {
   "cell_type": "code",
   "execution_count": 16,
   "metadata": {},
   "outputs": [
    {
     "name": "stdout",
     "output_type": "stream",
     "text": [
      "370 μs ± 40.5 μs per loop (mean ± std. dev. of 7 runs, 1,000 loops each)\n"
     ]
    }
   ],
   "source": [
    "%%timeit\n",
    "filtered1['flux'].sum()"
   ]
  },
  {
   "cell_type": "code",
   "execution_count": 17,
   "metadata": {},
   "outputs": [
    {
     "ename": "TypeError",
     "evalue": "filter_isin() missing 1 required positional argument: 'sketch'",
     "output_type": "error",
     "traceback": [
      "\u001b[0;31m---------------------------------------------------------------------------\u001b[0m",
      "\u001b[0;31mTypeError\u001b[0m                                 Traceback (most recent call last)",
      "Cell \u001b[0;32mIn[17], line 1\u001b[0m\n\u001b[0;32m----> 1\u001b[0m get_ipython()\u001b[38;5;241m.\u001b[39mrun_cell_magic(\u001b[38;5;124m'\u001b[39m\u001b[38;5;124mtimeit\u001b[39m\u001b[38;5;124m'\u001b[39m, \u001b[38;5;124m'\u001b[39m\u001b[38;5;124m'\u001b[39m, \u001b[38;5;124m\"\u001b[39m\u001b[38;5;124mfilter_isin(df, sketches[0])[\u001b[39m\u001b[38;5;124m'\u001b[39m\u001b[38;5;124mflux\u001b[39m\u001b[38;5;124m'\u001b[39m\u001b[38;5;124m].sum()\u001b[39m\u001b[38;5;130;01m\\n\u001b[39;00m\u001b[38;5;124m\"\u001b[39m)\n",
      "File \u001b[0;32m~/anaconda3/lib/python3.11/site-packages/IPython/core/interactiveshell.py:2541\u001b[0m, in \u001b[0;36mInteractiveShell.run_cell_magic\u001b[0;34m(self, magic_name, line, cell)\u001b[0m\n\u001b[1;32m   2539\u001b[0m \u001b[38;5;28;01mwith\u001b[39;00m \u001b[38;5;28mself\u001b[39m\u001b[38;5;241m.\u001b[39mbuiltin_trap:\n\u001b[1;32m   2540\u001b[0m     args \u001b[38;5;241m=\u001b[39m (magic_arg_s, cell)\n\u001b[0;32m-> 2541\u001b[0m     result \u001b[38;5;241m=\u001b[39m fn(\u001b[38;5;241m*\u001b[39margs, \u001b[38;5;241m*\u001b[39m\u001b[38;5;241m*\u001b[39mkwargs)\n\u001b[1;32m   2543\u001b[0m \u001b[38;5;66;03m# The code below prevents the output from being displayed\u001b[39;00m\n\u001b[1;32m   2544\u001b[0m \u001b[38;5;66;03m# when using magics with decorator @output_can_be_silenced\u001b[39;00m\n\u001b[1;32m   2545\u001b[0m \u001b[38;5;66;03m# when the last Python token in the expression is a ';'.\u001b[39;00m\n\u001b[1;32m   2546\u001b[0m \u001b[38;5;28;01mif\u001b[39;00m \u001b[38;5;28mgetattr\u001b[39m(fn, magic\u001b[38;5;241m.\u001b[39mMAGIC_OUTPUT_CAN_BE_SILENCED, \u001b[38;5;28;01mFalse\u001b[39;00m):\n",
      "File \u001b[0;32m~/anaconda3/lib/python3.11/site-packages/IPython/core/magics/execution.py:1185\u001b[0m, in \u001b[0;36mExecutionMagics.timeit\u001b[0;34m(self, line, cell, local_ns)\u001b[0m\n\u001b[1;32m   1183\u001b[0m \u001b[38;5;28;01mfor\u001b[39;00m index \u001b[38;5;129;01min\u001b[39;00m \u001b[38;5;28mrange\u001b[39m(\u001b[38;5;241m0\u001b[39m, \u001b[38;5;241m10\u001b[39m):\n\u001b[1;32m   1184\u001b[0m     number \u001b[38;5;241m=\u001b[39m \u001b[38;5;241m10\u001b[39m \u001b[38;5;241m*\u001b[39m\u001b[38;5;241m*\u001b[39m index\n\u001b[0;32m-> 1185\u001b[0m     time_number \u001b[38;5;241m=\u001b[39m timer\u001b[38;5;241m.\u001b[39mtimeit(number)\n\u001b[1;32m   1186\u001b[0m     \u001b[38;5;28;01mif\u001b[39;00m time_number \u001b[38;5;241m>\u001b[39m\u001b[38;5;241m=\u001b[39m \u001b[38;5;241m0.2\u001b[39m:\n\u001b[1;32m   1187\u001b[0m         \u001b[38;5;28;01mbreak\u001b[39;00m\n",
      "File \u001b[0;32m~/anaconda3/lib/python3.11/site-packages/IPython/core/magics/execution.py:173\u001b[0m, in \u001b[0;36mTimer.timeit\u001b[0;34m(self, number)\u001b[0m\n\u001b[1;32m    171\u001b[0m gc\u001b[38;5;241m.\u001b[39mdisable()\n\u001b[1;32m    172\u001b[0m \u001b[38;5;28;01mtry\u001b[39;00m:\n\u001b[0;32m--> 173\u001b[0m     timing \u001b[38;5;241m=\u001b[39m \u001b[38;5;28mself\u001b[39m\u001b[38;5;241m.\u001b[39minner(it, \u001b[38;5;28mself\u001b[39m\u001b[38;5;241m.\u001b[39mtimer)\n\u001b[1;32m    174\u001b[0m \u001b[38;5;28;01mfinally\u001b[39;00m:\n\u001b[1;32m    175\u001b[0m     \u001b[38;5;28;01mif\u001b[39;00m gcold:\n",
      "File \u001b[0;32m<magic-timeit>:1\u001b[0m, in \u001b[0;36minner\u001b[0;34m(_it, _timer)\u001b[0m\n",
      "\u001b[0;31mTypeError\u001b[0m: filter_isin() missing 1 required positional argument: 'sketch'"
     ]
    }
   ],
   "source": [
    "%%timeit\n",
    "filter_isin(df, sketches[0])['flux'].sum()"
   ]
  },
  {
   "cell_type": "code",
   "execution_count": null,
   "metadata": {},
   "outputs": [
    {
     "name": "stdout",
     "output_type": "stream",
     "text": [
      "18.3 ms ± 1.11 ms per loop (mean ± std. dev. of 7 runs, 100 loops each)\n"
     ]
    }
   ],
   "source": [
    "%%timeit\n",
    "df_mi['flux'].sum()"
   ]
  },
  {
   "cell_type": "code",
   "execution_count": null,
   "metadata": {},
   "outputs": [
    {
     "name": "stdout",
     "output_type": "stream",
     "text": [
      "3.21 ms ± 724 μs per loop (mean ± std. dev. of 7 runs, 100 loops each)\n"
     ]
    }
   ],
   "source": [
    "%%timeit\n",
    "filter_xs(df_mi, sketches[0])['flux'].sum()"
   ]
  }
 ],
 "metadata": {
  "kernelspec": {
   "display_name": "base",
   "language": "python",
   "name": "python3"
  },
  "language_info": {
   "codemirror_mode": {
    "name": "ipython",
    "version": 3
   },
   "file_extension": ".py",
   "mimetype": "text/x-python",
   "name": "python",
   "nbconvert_exporter": "python",
   "pygments_lexer": "ipython3",
   "version": "3.11.5"
  }
 },
 "nbformat": 4,
 "nbformat_minor": 2
}
